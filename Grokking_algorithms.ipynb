{
 "cells": [
  {
   "cell_type": "code",
   "execution_count": 34,
   "id": "1dbce6da-60ec-4b7f-9364-718b2fd93b3b",
   "metadata": {},
   "outputs": [],
   "source": [
    "# Binary search\n",
    "def bin_search(in_array, item: int) -> int:\n",
    "    list_len = len(in_array)\n",
    "    min_pos, max_pos = 0, list_len-1\n",
    "    while (min_pos < max_pos):\n",
    "        mid_pos = (min_pos + max_pos) // 2\n",
    "        #print(mid_pos)\n",
    "        mid_num = in_array[mid_pos]\n",
    "        if item == mid_num:\n",
    "            return mid_pos\n",
    "        elif item < mid_num:\n",
    "            max_pos = mid_pos - 1\n",
    "        else:\n",
    "            min_pos = mid_pos + 1\n",
    "    return None"
   ]
  },
  {
   "cell_type": "code",
   "execution_count": 8,
   "id": "e2735828-b32c-422f-849f-17f1b4527fe4",
   "metadata": {},
   "outputs": [],
   "source": [
    "# Insert sort\n",
    "def find_smallest(in_array):\n",
    "    smallest_idx, smallest_num = 0, in_array[0]\n",
    "    for idx, elem in enumerate(in_array):\n",
    "        if elem < smallest_num:\n",
    "            smallest_idx, smallest_num = idx, elem\n",
    "    return smallest_idx\n",
    "\n",
    "def ins_sort(in_array):\n",
    "    sorted_array = []\n",
    "    for i in range(len(in_array)):\n",
    "        smallest = find_smallest(in_array)\n",
    "        sorted_array.append(in_array.pop(smallest))\n",
    "    return sorted_array"
   ]
  },
  {
   "cell_type": "code",
   "execution_count": 22,
   "id": "b2332286-9622-405a-8c4a-f5b02171b0a3",
   "metadata": {},
   "outputs": [],
   "source": [
    "# Recursive algorithms\n",
    "def rec_sum(in_array):\n",
    "    if in_array == []:\n",
    "        return 0\n",
    "    else:\n",
    "        return in_array[0] + rec_sum(in_array[1:])\n",
    "    \n",
    "def rec_count(in_array):\n",
    "    if in_array == []:\n",
    "        return 0\n",
    "    else:\n",
    "        return 1 + rec_count(in_array[1:])\n",
    "    \n",
    "def rec_max(in_array):\n",
    "    if len(in_array) == 2:\n",
    "        return in_array[0] if in_array[0] > in_array[1] else in_array[1]\n",
    "    other_max = rec_max(in_array[1:]) \n",
    "    if in_array[0] > other_max:\n",
    "        return in_array[0]\n",
    "    else:\n",
    "        return other_max"
   ]
  },
  {
   "cell_type": "code",
   "execution_count": 4,
   "id": "759c1cda-dfbe-4c0b-8bb4-9bd9b6f5d174",
   "metadata": {},
   "outputs": [],
   "source": [
    "# Quick sort\n",
    "def qsort(arr):\n",
    "    if len(arr) < 2:\n",
    "        return arr\n",
    "    \n",
    "    root_el = arr[0]\n",
    "    smaller = [i for i in arr[1:] if i < root_el]\n",
    "    greater = [i for i in arr[1:] if i >= root_el]\n",
    "    return qsort(smaller) + [root_el] + qsort(greater)\n",
    "\n",
    "array = [8, 3, 3, 4, 3, 10, 12, 2]\n",
    "qsort(array)"
   ]
  },
  {
   "cell_type": "code",
   "execution_count": 5,
   "id": "582f93bd-9886-4aef-8b1e-529090e4f033",
   "metadata": {},
   "outputs": [],
   "source": [
    "# Hash function\n",
    "def simple_hash_func(string: str) -> int:\n",
    "    hash_tab = {'a': 1, 'b': 2, 'c': 3, 'd': 5, 'e': 7, 'f': 11, 'g': 13, 'h': 17, 'i': 19, 'j': 23, 'k': 31, 'l': 37, 'm': 41, 'n': 43, 'o': 47, 'p': 51, 'q': 53, 'r': 57, 's': 61, 't': 67, 'u': 71, 'v': 73, 'w': 79, 'x': 83, 'y': 87, 'z': 91}\n",
    "    hash_size = 10\n",
    "    if string == '':\n",
    "        return 0\n",
    "    \n",
    "    char_sum = 0\n",
    "    for char in string:\n",
    "        char_sum += hash_tab[char]\n",
    "    return char_sum % hash_size"
   ]
  },
  {
   "cell_type": "code",
   "execution_count": 19,
   "id": "82dec36f-8570-447a-9af7-a006b6cb5148",
   "metadata": {},
   "outputs": [
    {
     "name": "stdout",
     "output_type": "stream",
     "text": [
      "Found! Mango seller is\n"
     ]
    },
    {
     "data": {
      "text/plain": [
       "'anuj'"
      ]
     },
     "execution_count": 19,
     "metadata": {},
     "output_type": "execute_result"
    }
   ],
   "source": [
    "# Breadth-first search\n",
    "from collections import deque\n",
    "# Build a graph\n",
    "graph = {}\n",
    "graph['you'] = ['alice', 'bob', 'claire']\n",
    "graph['bob'] = ['anuj', 'peggy']\n",
    "graph['alice'] = ['peggy']\n",
    "graph['claire'] = ['thom', 'johnny']\n",
    "graph['anuj'] = []\n",
    "graph['peggy'] = []\n",
    "graph['thom'] = []\n",
    "graph['johnny'] = []\n",
    "\n",
    "mango_sellers = ['anuj', 'clearence']\n",
    "def person_is_mango_seller(name):\n",
    "    return name in mango_sellers\n",
    "    \n",
    "def breadth_first_search(search_graph, name):\n",
    "    que = deque()\n",
    "    # Put the first name into the que\n",
    "    que.append(name)\n",
    "    searched_people = []\n",
    "    while que:\n",
    "        subject = que.popleft()\n",
    "        if not subject in searched_people:\n",
    "            if person_is_mango_seller(subject):\n",
    "                print('Found! Mango seller is')\n",
    "                return subject\n",
    "            # If person is not , add all of his friends to the que\n",
    "            que += search_graph.get(subject)\n",
    "            searched_people.append(subject)\n",
    "    return False\n",
    "\n",
    "breadth_first_search(graph, 'you')"
   ]
  },
  {
   "cell_type": "code",
   "execution_count": 74,
   "id": "173783d8-a2cb-4b87-bcee-00cb93a93be7",
   "metadata": {},
   "outputs": [
    {
     "data": {
      "text/plain": [
       "({'A': 5, 'B': 2, 'D': 7, 'C': 9, 'end': 8},\n",
       " {'A': 'first', 'B': 'first', 'D': 'A', 'C': 'A', 'end': 'D'})"
      ]
     },
     "execution_count": 74,
     "metadata": {},
     "output_type": "execute_result"
    }
   ],
   "source": [
    "# Dijkstra algorithm\n",
    "from collections import deque\n",
    "INF = float(\"inf\")\n",
    "# Describe the graph\n",
    "graph = {}\n",
    "#graph['first'] = {'A': 6, 'B': 2}\n",
    "#graph['A'] = {'end': 1}\n",
    "#graph['B'] = {'A': 3, 'end': 5}\n",
    "#graph['end'] = {}\n",
    "\n",
    "graph['first'] = {'A': 5, 'B': 2}\n",
    "graph['A'] = {'C': 4, 'D': 2}\n",
    "graph['B'] = {'A': 8, 'D': 7}\n",
    "graph['C'] = {'end': 3, 'D': 6}\n",
    "graph['D'] = {'end': 1}\n",
    "graph['end'] = {}  # Ans: 8\n",
    "\n",
    "#graph['first'] = {'A': 10}\n",
    "#graph['A'] = {'B': 20}\n",
    "#graph['B'] = {'C': 1, 'end': 30}\n",
    "#graph['C'] = {'A': 1}\n",
    "#graph['end'] = {} # Ans: 60\n",
    "\n",
    "#graph['first'] = {'A': 2, 'B': 2}\n",
    "#graph['A'] = {'end': 2, 'C': 2}\n",
    "#graph['B'] = {'A': 2}\n",
    "#graph['C'] = {'end': 2, 'B': -1}\n",
    "#graph['end'] = {} # Ans: 4?\n",
    "# Dict for the parents of the nodes\n",
    "parents = {}\n",
    "\n",
    "# Dict for the shortest path to each node\n",
    "paths = {}\n",
    "\n",
    "def find_node_with_shortest_path(paths, completed):\n",
    "    min_key, min_value = None, INF\n",
    "    for key, value in paths.items():\n",
    "        if value <= min_value and not key in completed:\n",
    "            min_key, min_value = key, value\n",
    "    return min_key\n",
    "\n",
    "\n",
    "def dijkstra(graph, parents, paths, head):\n",
    "    node = head\n",
    "    # Shows the nodes that are already processed\n",
    "    completed = []\n",
    "    while node:\n",
    "        neighbors = graph[node]\n",
    "        for key, value in neighbors.items():\n",
    "            # Calculate new path to the neighboring node\n",
    "            new_path = paths.get(node, 0) + value\n",
    "            # If path to this neighboring node isn't in 'paths', then it is set to infinity\n",
    "            if new_path < paths.get(key, INF):\n",
    "                # New path is set only if it is shorter then the previous one\n",
    "                paths[key] = new_path\n",
    "                parents[key] = node\n",
    "        completed.append(node)\n",
    "        #print(f'Paths {paths}')\n",
    "        node = find_node_with_shortest_path(paths, completed)\n",
    "    return paths, parents\n",
    "\n",
    "dejikstra(graph, parents, paths, 'first')"
   ]
  },
  {
   "cell_type": "code",
   "execution_count": 114,
   "id": "ec31c1ef-7de7-4883-81a3-cfa204eb1ea3",
   "metadata": {},
   "outputs": [
    {
     "data": {
      "text/plain": [
       "[[0, 0, 10, 10, 10, 10],\n",
       " [3, 3, 10, 13, 13, 13],\n",
       " [3, 9, 12, 13, 19, 22],\n",
       " [3, 9, 12, 14, 19, 22],\n",
       " [6, 9, 15, 18, 20, 25]]"
      ]
     },
     "execution_count": 114,
     "metadata": {},
     "output_type": "execute_result"
    }
   ],
   "source": [
    "# Dinamic programming\n",
    "weight = {\n",
    "    'water': 3,\n",
    "    'book': 1,\n",
    "    'food': 2,\n",
    "    'jacket': 2,\n",
    "    'camera': 1\n",
    "}\n",
    "utility = {\n",
    "    'water': 10,\n",
    "    'book': 3,\n",
    "    'food': 9,\n",
    "    'jacket': 5,\n",
    "    'camera': 6\n",
    "}\n",
    "\n",
    "def get_cell_value(dinamic_table, utility, weight, weights, num, col, name):\n",
    "    \"\"\"\n",
    "    Formula goes like this: dinamic_table[i][j] = max (previous maximum, current element utility + utility of the remaining weight) =\n",
    "    = max (dinamic_table[i-1][j], utility[name] + dinamic_table[i-1][col - \n",
    "    \"\"\"\n",
    "    # If the current thing can't fit in\n",
    "    previous_max = dinamic_table[num-1][col]\n",
    "    # If after the current thing is added there is still some space\n",
    "    free_weight = weights[col] - weight[name]\n",
    "    if free_weight > 0:\n",
    "        free_weight_index = weights.index(free_weight)\n",
    "        cost_of_free_space = dinamic_table[num-1][free_weight_index]\n",
    "        utility_and_free_space = utility[name] + cost_of_free_space\n",
    "        return max(previous_max, utility_and_free_space)\n",
    "    elif free_weight == 0:\n",
    "        return max(previous_max, utility[name])\n",
    "    else:\n",
    "        return previous_max\n",
    "\n",
    "def din_prog(weight, utility, max_weight):\n",
    "    # Make weights from min_weight up to the max_weight with the needed period\n",
    "    weight_discreet = min(weight.values())\n",
    "    weights = [weight_discreet * (1+i) for i in range(max_weight // weight_discreet)]\n",
    "    # Set ids for every item in store\n",
    "    ids = {}\n",
    "    for num, item in enumerate(weight.keys()):\n",
    "        ids[item] = num\n",
    "    \n",
    "    num_weights, num_ids = len(weights), len(ids) \n",
    "    # Generate table\n",
    "    dinamic_table = [[0 for i in range(num_weights)] for j in range(num_ids)]\n",
    "    for name, num in ids.items():\n",
    "        # If it's the first row in the table, then fill it up with just item utility for every weight in weights\n",
    "        if num == 0:\n",
    "            dinamic_table[num] = [utility[name] if weight[name] <= weights[col] else 0 for col in range(num_weights)]\n",
    "        else:\n",
    "            dinamic_table[num] = [get_cell_value(dinamic_table, utility, weight, weights, num, col, name) for col in range(num_weights)]\n",
    "    return dinamic_table\n",
    "din_prog(weight, utility, 6)"
   ]
  }
 ],
 "metadata": {
  "kernelspec": {
   "display_name": "Python 3 (ipykernel)",
   "language": "python",
   "name": "python3"
  },
  "language_info": {
   "codemirror_mode": {
    "name": "ipython",
    "version": 3
   },
   "file_extension": ".py",
   "mimetype": "text/x-python",
   "name": "python",
   "nbconvert_exporter": "python",
   "pygments_lexer": "ipython3",
   "version": "3.9.7"
  }
 },
 "nbformat": 4,
 "nbformat_minor": 5
}
